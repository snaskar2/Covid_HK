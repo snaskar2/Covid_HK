{
 "cells": [
  {
   "cell_type": "code",
   "execution_count": 1,
   "id": "reasonable-penny",
   "metadata": {},
   "outputs": [],
   "source": [
    "import pandas as pd\n",
    "import io\n",
    "import requests\n",
    "import numpy as np\n",
    "url=\"http://www.chp.gov.hk/files/misc/enhanced_sur_covid_19_eng.csv\"\n",
    "s=requests.get(url).content\n",
    "df=pd.read_csv(io.StringIO(s.decode('utf-8')))\n",
    "\n",
    "\n",
    "df_delay_prep = df[~df['Date of onset'].isin(['Asymptomatic','Pending',\"Unknown\",\"January\",\"Mid-March\",\"Mid- July\",\"Mid-July\",\"October\"])]\n",
    "\n",
    "#Convert date of onset and reported date to datetime format\n",
    "s = pd.to_datetime(df_delay_prep[\"Report date\"],format='%d/%m/%Y').dt.date\n",
    "df_delay_prep = df_delay_prep.assign(e=pd.Series(s).values)\n",
    "df_delay_prep = df_delay_prep.drop([\"Report date\"], axis=1)\n",
    "df_delay_prep.rename(columns={'e': 'Report date'}, inplace=True)\n",
    "\n",
    "s = pd.to_datetime(df_delay_prep[\"Date of onset\"],format='%d/%m/%Y').dt.date\n",
    "df_delay_prep = df_delay_prep.assign(e=pd.Series(s).values)\n",
    "df_delay_prep = df_delay_prep.drop([\"Date of onset\"], axis=1)\n",
    "df_delay_prep.rename(columns={'e': 'Date of onset'}, inplace=True)"
   ]
  },
  {
   "cell_type": "code",
   "execution_count": 2,
   "id": "organizational-beach",
   "metadata": {},
   "outputs": [],
   "source": [
    "#df_delay_prep.head()"
   ]
  },
  {
   "cell_type": "code",
   "execution_count": 3,
   "id": "fundamental-philip",
   "metadata": {},
   "outputs": [],
   "source": [
    "df_age = df_delay_prep.copy()\n",
    "\n",
    "#Calculate delay\n",
    "df_age[\"Delay\"]=df_age[\"Report date\"].sub(df_age[\"Date of onset\"],axis=0)\n",
    "\n",
    "#Convert delay to int\n",
    "df_age[\"Delay\"]=df_age[\"Delay\"].dt.days\n",
    "\n",
    "df_age = df_age[(df_age[\"Case classification*\"]==\"Local case\")|(df_age[\"Case classification*\"]==\"Epidemiologically linked with local case\")]\n",
    "df_age = df_age[df_age[\"Delay\"]>0] #Remove no delay cases "
   ]
  },
  {
   "cell_type": "code",
   "execution_count": 4,
   "id": "automotive-principle",
   "metadata": {},
   "outputs": [],
   "source": [
    "#df_age['delay_cat'] = np.where( df_age.Delay > 0, 1, 0) \n",
    "#df_age.delay_cat.value_counts()"
   ]
  },
  {
   "cell_type": "code",
   "execution_count": 5,
   "id": "greenhouse-africa",
   "metadata": {},
   "outputs": [],
   "source": [
    "age_bucket = [0,18,34,44,54,64,75,100] \n",
    "df_age[\"age_bucketized\"]=pd.cut(df_age[\"Age\"],age_bucket)\n",
    "\n",
    "df_age= df_age.groupby([\"age_bucketized\",\"Case classification*\"]).count()\n",
    "df_age = df_age.drop(columns={\"Case no.\",'Gender', 'Age', 'Name of hospital admitted',\n",
    "       'Hospitalised/Discharged/Deceased', 'HK/Non-HK resident',\n",
    "        'Confirmed/probable', 'Report date',\n",
    "       'Date of onset'})\n",
    "df_age = df_age.unstack(level=-1)\n",
    "df_age[\"local\"] = df_age['Delay'][\"Epidemiologically linked with local case\"] + df_age['Delay'][\"Local case\"]"
   ]
  },
  {
   "cell_type": "code",
   "execution_count": 6,
   "id": "tribal-billy",
   "metadata": {},
   "outputs": [
    {
     "data": {
      "text/html": [
       "<div>\n",
       "<style scoped>\n",
       "    .dataframe tbody tr th:only-of-type {\n",
       "        vertical-align: middle;\n",
       "    }\n",
       "\n",
       "    .dataframe tbody tr th {\n",
       "        vertical-align: top;\n",
       "    }\n",
       "\n",
       "    .dataframe thead tr th {\n",
       "        text-align: left;\n",
       "    }\n",
       "\n",
       "    .dataframe thead tr:last-of-type th {\n",
       "        text-align: right;\n",
       "    }\n",
       "</style>\n",
       "<table border=\"1\" class=\"dataframe\">\n",
       "  <thead>\n",
       "    <tr>\n",
       "      <th></th>\n",
       "      <th colspan=\"2\" halign=\"left\">Delay</th>\n",
       "      <th>local</th>\n",
       "    </tr>\n",
       "    <tr>\n",
       "      <th>Case classification*</th>\n",
       "      <th>Epidemiologically linked with local case</th>\n",
       "      <th>Local case</th>\n",
       "      <th></th>\n",
       "    </tr>\n",
       "    <tr>\n",
       "      <th>age_bucketized</th>\n",
       "      <th></th>\n",
       "      <th></th>\n",
       "      <th></th>\n",
       "    </tr>\n",
       "  </thead>\n",
       "  <tbody>\n",
       "    <tr>\n",
       "      <th>(0, 18]</th>\n",
       "      <td>340</td>\n",
       "      <td>67</td>\n",
       "      <td>407</td>\n",
       "    </tr>\n",
       "    <tr>\n",
       "      <th>(18, 34]</th>\n",
       "      <td>853</td>\n",
       "      <td>495</td>\n",
       "      <td>1348</td>\n",
       "    </tr>\n",
       "    <tr>\n",
       "      <th>(34, 44]</th>\n",
       "      <td>599</td>\n",
       "      <td>400</td>\n",
       "      <td>999</td>\n",
       "    </tr>\n",
       "    <tr>\n",
       "      <th>(44, 54]</th>\n",
       "      <td>656</td>\n",
       "      <td>504</td>\n",
       "      <td>1160</td>\n",
       "    </tr>\n",
       "    <tr>\n",
       "      <th>(54, 64]</th>\n",
       "      <td>767</td>\n",
       "      <td>539</td>\n",
       "      <td>1306</td>\n",
       "    </tr>\n",
       "    <tr>\n",
       "      <th>(64, 75]</th>\n",
       "      <td>481</td>\n",
       "      <td>378</td>\n",
       "      <td>859</td>\n",
       "    </tr>\n",
       "    <tr>\n",
       "      <th>(75, 100]</th>\n",
       "      <td>258</td>\n",
       "      <td>193</td>\n",
       "      <td>451</td>\n",
       "    </tr>\n",
       "  </tbody>\n",
       "</table>\n",
       "</div>"
      ],
      "text/plain": [
       "                                                        Delay            local\n",
       "Case classification* Epidemiologically linked with local case Local case      \n",
       "age_bucketized                                                                \n",
       "(0, 18]                                                   340         67   407\n",
       "(18, 34]                                                  853        495  1348\n",
       "(34, 44]                                                  599        400   999\n",
       "(44, 54]                                                  656        504  1160\n",
       "(54, 64]                                                  767        539  1306\n",
       "(64, 75]                                                  481        378   859\n",
       "(75, 100]                                                 258        193   451"
      ]
     },
     "execution_count": 6,
     "metadata": {},
     "output_type": "execute_result"
    }
   ],
   "source": [
    "df_age"
   ]
  },
  {
   "cell_type": "code",
   "execution_count": 7,
   "id": "rubber-store",
   "metadata": {},
   "outputs": [],
   "source": [
    "#Do the same for total cases \n",
    "url=\"http://www.chp.gov.hk/files/misc/enhanced_sur_covid_19_eng.csv\"\n",
    "s=requests.get(url).content\n",
    "df=pd.read_csv(io.StringIO(s.decode('utf-8')))\n",
    "df_copy_1 = df.copy()\n",
    "df_copy_1 = df_copy_1[(df_copy_1[\"Case classification*\"]==\"Local case\")|(df_copy_1[\"Case classification*\"]==\"Epidemiologically linked with local case\")]\n",
    "df_copy_1[\"age_bucketized\"]=pd.cut(df_copy_1[\"Age\"],age_bucket)\n",
    "df_copy_1 = df_copy_1.groupby([\"age_bucketized\",\"Case classification*\"]).count()\n",
    "df_copy_1 = df_copy_1.drop(columns={'Gender', 'Age', 'Name of hospital admitted',\n",
    "       'Hospitalised/Discharged/Deceased', 'HK/Non-HK resident',\n",
    "        'Confirmed/probable', 'Report date',\n",
    "       'Date of onset'})\n",
    "\n",
    "df_copy_1 = df_copy_1.unstack(level=-1)\n",
    "df_copy_1[\"local\"] = df_copy_1['Case no.'][\"Epidemiologically linked with local case\"] + df_copy_1['Case no.'][\"Local case\"]"
   ]
  },
  {
   "cell_type": "code",
   "execution_count": 8,
   "id": "indonesian-firmware",
   "metadata": {},
   "outputs": [
    {
     "data": {
      "text/html": [
       "<div>\n",
       "<style scoped>\n",
       "    .dataframe tbody tr th:only-of-type {\n",
       "        vertical-align: middle;\n",
       "    }\n",
       "\n",
       "    .dataframe tbody tr th {\n",
       "        vertical-align: top;\n",
       "    }\n",
       "\n",
       "    .dataframe thead tr th {\n",
       "        text-align: left;\n",
       "    }\n",
       "\n",
       "    .dataframe thead tr:last-of-type th {\n",
       "        text-align: right;\n",
       "    }\n",
       "</style>\n",
       "<table border=\"1\" class=\"dataframe\">\n",
       "  <thead>\n",
       "    <tr>\n",
       "      <th></th>\n",
       "      <th colspan=\"2\" halign=\"left\">Case no.</th>\n",
       "      <th>local</th>\n",
       "    </tr>\n",
       "    <tr>\n",
       "      <th>Case classification*</th>\n",
       "      <th>Epidemiologically linked with local case</th>\n",
       "      <th>Local case</th>\n",
       "      <th></th>\n",
       "    </tr>\n",
       "    <tr>\n",
       "      <th>age_bucketized</th>\n",
       "      <th></th>\n",
       "      <th></th>\n",
       "      <th></th>\n",
       "    </tr>\n",
       "  </thead>\n",
       "  <tbody>\n",
       "    <tr>\n",
       "      <th>(0, 18]</th>\n",
       "      <td>543</td>\n",
       "      <td>74</td>\n",
       "      <td>617</td>\n",
       "    </tr>\n",
       "    <tr>\n",
       "      <th>(18, 34]</th>\n",
       "      <td>1098</td>\n",
       "      <td>550</td>\n",
       "      <td>1648</td>\n",
       "    </tr>\n",
       "    <tr>\n",
       "      <th>(34, 44]</th>\n",
       "      <td>839</td>\n",
       "      <td>460</td>\n",
       "      <td>1299</td>\n",
       "    </tr>\n",
       "    <tr>\n",
       "      <th>(44, 54]</th>\n",
       "      <td>879</td>\n",
       "      <td>569</td>\n",
       "      <td>1448</td>\n",
       "    </tr>\n",
       "    <tr>\n",
       "      <th>(54, 64]</th>\n",
       "      <td>1011</td>\n",
       "      <td>601</td>\n",
       "      <td>1612</td>\n",
       "    </tr>\n",
       "    <tr>\n",
       "      <th>(64, 75]</th>\n",
       "      <td>695</td>\n",
       "      <td>448</td>\n",
       "      <td>1143</td>\n",
       "    </tr>\n",
       "    <tr>\n",
       "      <th>(75, 100]</th>\n",
       "      <td>367</td>\n",
       "      <td>215</td>\n",
       "      <td>582</td>\n",
       "    </tr>\n",
       "  </tbody>\n",
       "</table>\n",
       "</div>"
      ],
      "text/plain": [
       "                                                     Case no.            local\n",
       "Case classification* Epidemiologically linked with local case Local case      \n",
       "age_bucketized                                                                \n",
       "(0, 18]                                                   543         74   617\n",
       "(18, 34]                                                 1098        550  1648\n",
       "(34, 44]                                                  839        460  1299\n",
       "(44, 54]                                                  879        569  1448\n",
       "(54, 64]                                                 1011        601  1612\n",
       "(64, 75]                                                  695        448  1143\n",
       "(75, 100]                                                 367        215   582"
      ]
     },
     "execution_count": 8,
     "metadata": {},
     "output_type": "execute_result"
    }
   ],
   "source": [
    "df_copy_1"
   ]
  },
  {
   "cell_type": "code",
   "execution_count": 9,
   "id": "posted-performance",
   "metadata": {},
   "outputs": [],
   "source": [
    "df_age[\"Age\"] = [1,2,3,4,5,6,7]"
   ]
  },
  {
   "cell_type": "code",
   "execution_count": 10,
   "id": "choice-enlargement",
   "metadata": {},
   "outputs": [
    {
     "data": {
      "text/html": [
       "<div>\n",
       "<style scoped>\n",
       "    .dataframe tbody tr th:only-of-type {\n",
       "        vertical-align: middle;\n",
       "    }\n",
       "\n",
       "    .dataframe tbody tr th {\n",
       "        vertical-align: top;\n",
       "    }\n",
       "\n",
       "    .dataframe thead tr th {\n",
       "        text-align: left;\n",
       "    }\n",
       "\n",
       "    .dataframe thead tr:last-of-type th {\n",
       "        text-align: right;\n",
       "    }\n",
       "</style>\n",
       "<table border=\"1\" class=\"dataframe\">\n",
       "  <thead>\n",
       "    <tr>\n",
       "      <th></th>\n",
       "      <th colspan=\"2\" halign=\"left\">Delay</th>\n",
       "      <th>local</th>\n",
       "      <th>Age</th>\n",
       "    </tr>\n",
       "    <tr>\n",
       "      <th>Case classification*</th>\n",
       "      <th>Epidemiologically linked with local case</th>\n",
       "      <th>Local case</th>\n",
       "      <th></th>\n",
       "      <th></th>\n",
       "    </tr>\n",
       "    <tr>\n",
       "      <th>age_bucketized</th>\n",
       "      <th></th>\n",
       "      <th></th>\n",
       "      <th></th>\n",
       "      <th></th>\n",
       "    </tr>\n",
       "  </thead>\n",
       "  <tbody>\n",
       "    <tr>\n",
       "      <th>(0, 18]</th>\n",
       "      <td>340</td>\n",
       "      <td>67</td>\n",
       "      <td>407</td>\n",
       "      <td>1</td>\n",
       "    </tr>\n",
       "    <tr>\n",
       "      <th>(18, 34]</th>\n",
       "      <td>853</td>\n",
       "      <td>495</td>\n",
       "      <td>1348</td>\n",
       "      <td>2</td>\n",
       "    </tr>\n",
       "    <tr>\n",
       "      <th>(34, 44]</th>\n",
       "      <td>599</td>\n",
       "      <td>400</td>\n",
       "      <td>999</td>\n",
       "      <td>3</td>\n",
       "    </tr>\n",
       "    <tr>\n",
       "      <th>(44, 54]</th>\n",
       "      <td>656</td>\n",
       "      <td>504</td>\n",
       "      <td>1160</td>\n",
       "      <td>4</td>\n",
       "    </tr>\n",
       "    <tr>\n",
       "      <th>(54, 64]</th>\n",
       "      <td>767</td>\n",
       "      <td>539</td>\n",
       "      <td>1306</td>\n",
       "      <td>5</td>\n",
       "    </tr>\n",
       "    <tr>\n",
       "      <th>(64, 75]</th>\n",
       "      <td>481</td>\n",
       "      <td>378</td>\n",
       "      <td>859</td>\n",
       "      <td>6</td>\n",
       "    </tr>\n",
       "    <tr>\n",
       "      <th>(75, 100]</th>\n",
       "      <td>258</td>\n",
       "      <td>193</td>\n",
       "      <td>451</td>\n",
       "      <td>7</td>\n",
       "    </tr>\n",
       "  </tbody>\n",
       "</table>\n",
       "</div>"
      ],
      "text/plain": [
       "                                                        Delay             \\\n",
       "Case classification* Epidemiologically linked with local case Local case   \n",
       "age_bucketized                                                             \n",
       "(0, 18]                                                   340         67   \n",
       "(18, 34]                                                  853        495   \n",
       "(34, 44]                                                  599        400   \n",
       "(44, 54]                                                  656        504   \n",
       "(54, 64]                                                  767        539   \n",
       "(64, 75]                                                  481        378   \n",
       "(75, 100]                                                 258        193   \n",
       "\n",
       "                     local Age  \n",
       "Case classification*            \n",
       "age_bucketized                  \n",
       "(0, 18]                407   1  \n",
       "(18, 34]              1348   2  \n",
       "(34, 44]               999   3  \n",
       "(44, 54]              1160   4  \n",
       "(54, 64]              1306   5  \n",
       "(64, 75]               859   6  \n",
       "(75, 100]              451   7  "
      ]
     },
     "execution_count": 10,
     "metadata": {},
     "output_type": "execute_result"
    }
   ],
   "source": [
    "df_age"
   ]
  },
  {
   "cell_type": "code",
   "execution_count": 11,
   "id": "homeless-vulnerability",
   "metadata": {},
   "outputs": [
    {
     "name": "stdout",
     "output_type": "stream",
     "text": [
      "<class 'pandas.core.frame.DataFrame'>\n",
      "CategoricalIndex: 7 entries, (0, 18] to (75, 100]\n",
      "Data columns (total 4 columns):\n",
      " #   Column                                             Non-Null Count  Dtype\n",
      "---  ------                                             --------------  -----\n",
      " 0   (Delay, Epidemiologically linked with local case)  7 non-null      int64\n",
      " 1   (Delay, Local case)                                7 non-null      int64\n",
      " 2   (local, )                                          7 non-null      int64\n",
      " 3   (Age, )                                            7 non-null      int64\n",
      "dtypes: int64(4)\n",
      "memory usage: 643.0 bytes\n"
     ]
    }
   ],
   "source": [
    "df_age.info()"
   ]
  },
  {
   "cell_type": "code",
   "execution_count": 12,
   "id": "functional-forum",
   "metadata": {},
   "outputs": [
    {
     "name": "stdout",
     "output_type": "stream",
     "text": [
      "<class 'pandas.core.frame.DataFrame'>\n",
      "CategoricalIndex: 7 entries, (0, 18] to (75, 100]\n",
      "Data columns (total 3 columns):\n",
      " #   Column                                                Non-Null Count  Dtype\n",
      "---  ------                                                --------------  -----\n",
      " 0   (Case no., Epidemiologically linked with local case)  7 non-null      int64\n",
      " 1   (Case no., Local case)                                7 non-null      int64\n",
      " 2   (local, )                                             7 non-null      int64\n",
      "dtypes: int64(3)\n",
      "memory usage: 587.0 bytes\n"
     ]
    }
   ],
   "source": [
    "df_copy_1.info()"
   ]
  },
  {
   "cell_type": "code",
   "execution_count": 13,
   "id": "successful-attribute",
   "metadata": {},
   "outputs": [
    {
     "data": {
      "text/html": [
       "<div>\n",
       "<style scoped>\n",
       "    .dataframe tbody tr th:only-of-type {\n",
       "        vertical-align: middle;\n",
       "    }\n",
       "\n",
       "    .dataframe tbody tr th {\n",
       "        vertical-align: top;\n",
       "    }\n",
       "\n",
       "    .dataframe thead tr th {\n",
       "        text-align: left;\n",
       "    }\n",
       "\n",
       "    .dataframe thead tr:last-of-type th {\n",
       "        text-align: right;\n",
       "    }\n",
       "</style>\n",
       "<table border=\"1\" class=\"dataframe\">\n",
       "  <thead>\n",
       "    <tr>\n",
       "      <th></th>\n",
       "      <th colspan=\"2\" halign=\"left\">Delay</th>\n",
       "      <th>local</th>\n",
       "      <th>Age</th>\n",
       "      <th>cases with delay % - Local with Epi-link</th>\n",
       "      <th>cases with delay % - Local without Epi-link</th>\n",
       "      <th>cases with delay % - Local</th>\n",
       "    </tr>\n",
       "    <tr>\n",
       "      <th>Case classification*</th>\n",
       "      <th>Epidemiologically linked with local case</th>\n",
       "      <th>Local case</th>\n",
       "      <th></th>\n",
       "      <th></th>\n",
       "      <th></th>\n",
       "      <th></th>\n",
       "      <th></th>\n",
       "    </tr>\n",
       "    <tr>\n",
       "      <th>age_bucketized</th>\n",
       "      <th></th>\n",
       "      <th></th>\n",
       "      <th></th>\n",
       "      <th></th>\n",
       "      <th></th>\n",
       "      <th></th>\n",
       "      <th></th>\n",
       "    </tr>\n",
       "  </thead>\n",
       "  <tbody>\n",
       "    <tr>\n",
       "      <th>(0, 18]</th>\n",
       "      <td>340</td>\n",
       "      <td>67</td>\n",
       "      <td>407</td>\n",
       "      <td>1</td>\n",
       "      <td>62.615101</td>\n",
       "      <td>90.540541</td>\n",
       "      <td>65.964344</td>\n",
       "    </tr>\n",
       "    <tr>\n",
       "      <th>(18, 34]</th>\n",
       "      <td>853</td>\n",
       "      <td>495</td>\n",
       "      <td>1348</td>\n",
       "      <td>2</td>\n",
       "      <td>77.686703</td>\n",
       "      <td>90.000000</td>\n",
       "      <td>81.796117</td>\n",
       "    </tr>\n",
       "    <tr>\n",
       "      <th>(34, 44]</th>\n",
       "      <td>599</td>\n",
       "      <td>400</td>\n",
       "      <td>999</td>\n",
       "      <td>3</td>\n",
       "      <td>71.394517</td>\n",
       "      <td>86.956522</td>\n",
       "      <td>76.905312</td>\n",
       "    </tr>\n",
       "    <tr>\n",
       "      <th>(44, 54]</th>\n",
       "      <td>656</td>\n",
       "      <td>504</td>\n",
       "      <td>1160</td>\n",
       "      <td>4</td>\n",
       "      <td>74.630262</td>\n",
       "      <td>88.576450</td>\n",
       "      <td>80.110497</td>\n",
       "    </tr>\n",
       "    <tr>\n",
       "      <th>(54, 64]</th>\n",
       "      <td>767</td>\n",
       "      <td>539</td>\n",
       "      <td>1306</td>\n",
       "      <td>5</td>\n",
       "      <td>75.865480</td>\n",
       "      <td>89.683860</td>\n",
       "      <td>81.017370</td>\n",
       "    </tr>\n",
       "    <tr>\n",
       "      <th>(64, 75]</th>\n",
       "      <td>481</td>\n",
       "      <td>378</td>\n",
       "      <td>859</td>\n",
       "      <td>6</td>\n",
       "      <td>69.208633</td>\n",
       "      <td>84.375000</td>\n",
       "      <td>75.153106</td>\n",
       "    </tr>\n",
       "    <tr>\n",
       "      <th>(75, 100]</th>\n",
       "      <td>258</td>\n",
       "      <td>193</td>\n",
       "      <td>451</td>\n",
       "      <td>7</td>\n",
       "      <td>70.299728</td>\n",
       "      <td>89.767442</td>\n",
       "      <td>77.491409</td>\n",
       "    </tr>\n",
       "  </tbody>\n",
       "</table>\n",
       "</div>"
      ],
      "text/plain": [
       "                                                        Delay             \\\n",
       "Case classification* Epidemiologically linked with local case Local case   \n",
       "age_bucketized                                                             \n",
       "(0, 18]                                                   340         67   \n",
       "(18, 34]                                                  853        495   \n",
       "(34, 44]                                                  599        400   \n",
       "(44, 54]                                                  656        504   \n",
       "(54, 64]                                                  767        539   \n",
       "(64, 75]                                                  481        378   \n",
       "(75, 100]                                                 258        193   \n",
       "\n",
       "                     local Age cases with delay % - Local with Epi-link  \\\n",
       "Case classification*                                                      \n",
       "age_bucketized                                                            \n",
       "(0, 18]                407   1                                62.615101   \n",
       "(18, 34]              1348   2                                77.686703   \n",
       "(34, 44]               999   3                                71.394517   \n",
       "(44, 54]              1160   4                                74.630262   \n",
       "(54, 64]              1306   5                                75.865480   \n",
       "(64, 75]               859   6                                69.208633   \n",
       "(75, 100]              451   7                                70.299728   \n",
       "\n",
       "                     cases with delay % - Local without Epi-link  \\\n",
       "Case classification*                                               \n",
       "age_bucketized                                                     \n",
       "(0, 18]                                                90.540541   \n",
       "(18, 34]                                               90.000000   \n",
       "(34, 44]                                               86.956522   \n",
       "(44, 54]                                               88.576450   \n",
       "(54, 64]                                               89.683860   \n",
       "(64, 75]                                               84.375000   \n",
       "(75, 100]                                              89.767442   \n",
       "\n",
       "                     cases with delay % - Local  \n",
       "Case classification*                             \n",
       "age_bucketized                                   \n",
       "(0, 18]                               65.964344  \n",
       "(18, 34]                              81.796117  \n",
       "(34, 44]                              76.905312  \n",
       "(44, 54]                              80.110497  \n",
       "(54, 64]                              81.017370  \n",
       "(64, 75]                              75.153106  \n",
       "(75, 100]                             77.491409  "
      ]
     },
     "execution_count": 13,
     "metadata": {},
     "output_type": "execute_result"
    }
   ],
   "source": [
    "df_age[\"cases with delay % - Local with Epi-link\"] =(df_age['Delay'][\"Epidemiologically linked with local case\"]/df_copy_1[\"Case no.\"][\"Epidemiologically linked with local case\"])*100\n",
    "df_age[\"cases with delay % - Local without Epi-link\"] =(df_age['Delay'][\"Local case\"]/df_copy_1[\"Case no.\"][\"Local case\"])*100\n",
    "df_age[\"cases with delay % - Local\"] =(df_age['local']/df_copy_1[\"local\"])*100\n",
    "df_age"
   ]
  },
  {
   "cell_type": "code",
   "execution_count": 14,
   "id": "amended-lightning",
   "metadata": {},
   "outputs": [],
   "source": [
    "df_age = df_age.set_index(\"Age\")"
   ]
  },
  {
   "cell_type": "code",
   "execution_count": 15,
   "id": "comfortable-speaking",
   "metadata": {},
   "outputs": [
    {
     "data": {
      "text/plain": [
       "Int64Index([1, 2, 3, 4, 5, 6, 7], dtype='int64', name='Age')"
      ]
     },
     "execution_count": 15,
     "metadata": {},
     "output_type": "execute_result"
    }
   ],
   "source": [
    "df_age.index"
   ]
  },
  {
   "cell_type": "code",
   "execution_count": 16,
   "id": "faced-stamp",
   "metadata": {},
   "outputs": [
    {
     "name": "stderr",
     "output_type": "stream",
     "text": [
      "C:\\Users\\shoun\\OneDrive - City University of Hong Kong\\Projects\\Covid_HK\\calculation.py:96: SettingWithCopyWarning: \n",
      "A value is trying to be set on a copy of a slice from a DataFrame.\n",
      "Try using .loc[row_indexer,col_indexer] = value instead\n",
      "\n",
      "See the caveats in the documentation: https://pandas.pydata.org/pandas-docs/stable/user_guide/indexing.html#returning-a-view-versus-a-copy\n",
      "  df_lln_v5[\"Delay\"]=df_lln_v5[\"Report date\"].sub(df_lln_v5[\"Date of onset\"],axis=0)\n",
      "C:\\Users\\shoun\\OneDrive - City University of Hong Kong\\Projects\\Covid_HK\\calculation.py:97: SettingWithCopyWarning: \n",
      "A value is trying to be set on a copy of a slice from a DataFrame.\n",
      "Try using .loc[row_indexer,col_indexer] = value instead\n",
      "\n",
      "See the caveats in the documentation: https://pandas.pydata.org/pandas-docs/stable/user_guide/indexing.html#returning-a-view-versus-a-copy\n",
      "  df_llp_v5[\"Delay\"]=df_llp_v5[\"Report date\"].sub(df_llp_v5[\"Date of onset\"],axis=0)\n",
      "C:\\Users\\shoun\\OneDrive - City University of Hong Kong\\Projects\\Covid_HK\\calculation.py:100: SettingWithCopyWarning: \n",
      "A value is trying to be set on a copy of a slice from a DataFrame.\n",
      "Try using .loc[row_indexer,col_indexer] = value instead\n",
      "\n",
      "See the caveats in the documentation: https://pandas.pydata.org/pandas-docs/stable/user_guide/indexing.html#returning-a-view-versus-a-copy\n",
      "  df_lln_v5[\"Delay\"]=df_lln_v5[\"Delay\"].dt.days\n",
      "C:\\Users\\shoun\\OneDrive - City University of Hong Kong\\Projects\\Covid_HK\\calculation.py:101: SettingWithCopyWarning: \n",
      "A value is trying to be set on a copy of a slice from a DataFrame.\n",
      "Try using .loc[row_indexer,col_indexer] = value instead\n",
      "\n",
      "See the caveats in the documentation: https://pandas.pydata.org/pandas-docs/stable/user_guide/indexing.html#returning-a-view-versus-a-copy\n",
      "  df_llp_v5[\"Delay\"]=df_llp_v5[\"Delay\"].dt.days\n"
     ]
    }
   ],
   "source": [
    "import dash\n",
    "import dash_core_components as dcc\n",
    "import dash_html_components as html\n",
    "from dash.dependencies import Input, Output\n",
    "import pandas as pd\n",
    "import plotly.express as px\n",
    "import os \n",
    "import pandas as pd\n",
    "import calculation  #The file which contains the calculations \n",
    "import plotly.graph_objects as go\n",
    "import dash_table as dt\n",
    "import geo_calculation"
   ]
  },
  {
   "cell_type": "code",
   "execution_count": 19,
   "id": "variable-binding",
   "metadata": {},
   "outputs": [
    {
     "data": {
      "application/vnd.plotly.v1+json": {
       "config": {
        "plotlyServerURL": "https://plot.ly"
       },
       "data": [
        {
         "alignmentgroup": "True",
         "hovertemplate": "variable=cases with delay % - Local with Epi-link<br>Age=%{x}<br>value=%{y}<extra></extra>",
         "legendgroup": "cases with delay % - Local with Epi-link",
         "marker": {
          "color": "#636efa"
         },
         "name": "cases with delay % - Local with Epi-link",
         "offsetgroup": "cases with delay % - Local with Epi-link",
         "orientation": "v",
         "showlegend": true,
         "textposition": "auto",
         "type": "bar",
         "x": [
          1,
          2,
          3,
          4,
          5,
          6,
          7
         ],
         "xaxis": "x",
         "y": [
          62.61510128913444,
          77.68670309653916,
          71.39451728247914,
          74.63026166097838,
          75.86547972304649,
          69.20863309352518,
          70.29972752043598
         ],
         "yaxis": "y"
        },
        {
         "alignmentgroup": "True",
         "hovertemplate": "variable=cases with delay % - Local without Epi-link<br>Age=%{x}<br>value=%{y}<extra></extra>",
         "legendgroup": "cases with delay % - Local without Epi-link",
         "marker": {
          "color": "#EF553B"
         },
         "name": "cases with delay % - Local without Epi-link",
         "offsetgroup": "cases with delay % - Local without Epi-link",
         "orientation": "v",
         "showlegend": true,
         "textposition": "auto",
         "type": "bar",
         "x": [
          1,
          2,
          3,
          4,
          5,
          6,
          7
         ],
         "xaxis": "x",
         "y": [
          90.54054054054053,
          90,
          86.95652173913044,
          88.57644991212655,
          89.6838602329451,
          84.375,
          89.76744186046511
         ],
         "yaxis": "y"
        },
        {
         "alignmentgroup": "True",
         "hovertemplate": "variable=cases with delay % - Local<br>Age=%{x}<br>value=%{y}<extra></extra>",
         "legendgroup": "cases with delay % - Local",
         "marker": {
          "color": "#00cc96"
         },
         "name": "cases with delay % - Local",
         "offsetgroup": "cases with delay % - Local",
         "orientation": "v",
         "showlegend": true,
         "textposition": "auto",
         "type": "bar",
         "x": [
          1,
          2,
          3,
          4,
          5,
          6,
          7
         ],
         "xaxis": "x",
         "y": [
          65.96434359805511,
          81.79611650485437,
          76.905311778291,
          80.11049723756905,
          81.01736972704715,
          75.15310586176727,
          77.4914089347079
         ],
         "yaxis": "y"
        }
       ],
       "layout": {
        "barmode": "group",
        "legend": {
         "title": {
          "text": "variable"
         },
         "tracegroupgap": 0
        },
        "margin": {
         "t": 60
        },
        "template": {
         "data": {
          "bar": [
           {
            "error_x": {
             "color": "#f2f5fa"
            },
            "error_y": {
             "color": "#f2f5fa"
            },
            "marker": {
             "line": {
              "color": "rgb(17,17,17)",
              "width": 0.5
             }
            },
            "type": "bar"
           }
          ],
          "barpolar": [
           {
            "marker": {
             "line": {
              "color": "rgb(17,17,17)",
              "width": 0.5
             }
            },
            "type": "barpolar"
           }
          ],
          "carpet": [
           {
            "aaxis": {
             "endlinecolor": "#A2B1C6",
             "gridcolor": "#506784",
             "linecolor": "#506784",
             "minorgridcolor": "#506784",
             "startlinecolor": "#A2B1C6"
            },
            "baxis": {
             "endlinecolor": "#A2B1C6",
             "gridcolor": "#506784",
             "linecolor": "#506784",
             "minorgridcolor": "#506784",
             "startlinecolor": "#A2B1C6"
            },
            "type": "carpet"
           }
          ],
          "choropleth": [
           {
            "colorbar": {
             "outlinewidth": 0,
             "ticks": ""
            },
            "type": "choropleth"
           }
          ],
          "contour": [
           {
            "colorbar": {
             "outlinewidth": 0,
             "ticks": ""
            },
            "colorscale": [
             [
              0,
              "#0d0887"
             ],
             [
              0.1111111111111111,
              "#46039f"
             ],
             [
              0.2222222222222222,
              "#7201a8"
             ],
             [
              0.3333333333333333,
              "#9c179e"
             ],
             [
              0.4444444444444444,
              "#bd3786"
             ],
             [
              0.5555555555555556,
              "#d8576b"
             ],
             [
              0.6666666666666666,
              "#ed7953"
             ],
             [
              0.7777777777777778,
              "#fb9f3a"
             ],
             [
              0.8888888888888888,
              "#fdca26"
             ],
             [
              1,
              "#f0f921"
             ]
            ],
            "type": "contour"
           }
          ],
          "contourcarpet": [
           {
            "colorbar": {
             "outlinewidth": 0,
             "ticks": ""
            },
            "type": "contourcarpet"
           }
          ],
          "heatmap": [
           {
            "colorbar": {
             "outlinewidth": 0,
             "ticks": ""
            },
            "colorscale": [
             [
              0,
              "#0d0887"
             ],
             [
              0.1111111111111111,
              "#46039f"
             ],
             [
              0.2222222222222222,
              "#7201a8"
             ],
             [
              0.3333333333333333,
              "#9c179e"
             ],
             [
              0.4444444444444444,
              "#bd3786"
             ],
             [
              0.5555555555555556,
              "#d8576b"
             ],
             [
              0.6666666666666666,
              "#ed7953"
             ],
             [
              0.7777777777777778,
              "#fb9f3a"
             ],
             [
              0.8888888888888888,
              "#fdca26"
             ],
             [
              1,
              "#f0f921"
             ]
            ],
            "type": "heatmap"
           }
          ],
          "heatmapgl": [
           {
            "colorbar": {
             "outlinewidth": 0,
             "ticks": ""
            },
            "colorscale": [
             [
              0,
              "#0d0887"
             ],
             [
              0.1111111111111111,
              "#46039f"
             ],
             [
              0.2222222222222222,
              "#7201a8"
             ],
             [
              0.3333333333333333,
              "#9c179e"
             ],
             [
              0.4444444444444444,
              "#bd3786"
             ],
             [
              0.5555555555555556,
              "#d8576b"
             ],
             [
              0.6666666666666666,
              "#ed7953"
             ],
             [
              0.7777777777777778,
              "#fb9f3a"
             ],
             [
              0.8888888888888888,
              "#fdca26"
             ],
             [
              1,
              "#f0f921"
             ]
            ],
            "type": "heatmapgl"
           }
          ],
          "histogram": [
           {
            "marker": {
             "colorbar": {
              "outlinewidth": 0,
              "ticks": ""
             }
            },
            "type": "histogram"
           }
          ],
          "histogram2d": [
           {
            "colorbar": {
             "outlinewidth": 0,
             "ticks": ""
            },
            "colorscale": [
             [
              0,
              "#0d0887"
             ],
             [
              0.1111111111111111,
              "#46039f"
             ],
             [
              0.2222222222222222,
              "#7201a8"
             ],
             [
              0.3333333333333333,
              "#9c179e"
             ],
             [
              0.4444444444444444,
              "#bd3786"
             ],
             [
              0.5555555555555556,
              "#d8576b"
             ],
             [
              0.6666666666666666,
              "#ed7953"
             ],
             [
              0.7777777777777778,
              "#fb9f3a"
             ],
             [
              0.8888888888888888,
              "#fdca26"
             ],
             [
              1,
              "#f0f921"
             ]
            ],
            "type": "histogram2d"
           }
          ],
          "histogram2dcontour": [
           {
            "colorbar": {
             "outlinewidth": 0,
             "ticks": ""
            },
            "colorscale": [
             [
              0,
              "#0d0887"
             ],
             [
              0.1111111111111111,
              "#46039f"
             ],
             [
              0.2222222222222222,
              "#7201a8"
             ],
             [
              0.3333333333333333,
              "#9c179e"
             ],
             [
              0.4444444444444444,
              "#bd3786"
             ],
             [
              0.5555555555555556,
              "#d8576b"
             ],
             [
              0.6666666666666666,
              "#ed7953"
             ],
             [
              0.7777777777777778,
              "#fb9f3a"
             ],
             [
              0.8888888888888888,
              "#fdca26"
             ],
             [
              1,
              "#f0f921"
             ]
            ],
            "type": "histogram2dcontour"
           }
          ],
          "mesh3d": [
           {
            "colorbar": {
             "outlinewidth": 0,
             "ticks": ""
            },
            "type": "mesh3d"
           }
          ],
          "parcoords": [
           {
            "line": {
             "colorbar": {
              "outlinewidth": 0,
              "ticks": ""
             }
            },
            "type": "parcoords"
           }
          ],
          "pie": [
           {
            "automargin": true,
            "type": "pie"
           }
          ],
          "scatter": [
           {
            "marker": {
             "line": {
              "color": "#283442"
             }
            },
            "type": "scatter"
           }
          ],
          "scatter3d": [
           {
            "line": {
             "colorbar": {
              "outlinewidth": 0,
              "ticks": ""
             }
            },
            "marker": {
             "colorbar": {
              "outlinewidth": 0,
              "ticks": ""
             }
            },
            "type": "scatter3d"
           }
          ],
          "scattercarpet": [
           {
            "marker": {
             "colorbar": {
              "outlinewidth": 0,
              "ticks": ""
             }
            },
            "type": "scattercarpet"
           }
          ],
          "scattergeo": [
           {
            "marker": {
             "colorbar": {
              "outlinewidth": 0,
              "ticks": ""
             }
            },
            "type": "scattergeo"
           }
          ],
          "scattergl": [
           {
            "marker": {
             "line": {
              "color": "#283442"
             }
            },
            "type": "scattergl"
           }
          ],
          "scattermapbox": [
           {
            "marker": {
             "colorbar": {
              "outlinewidth": 0,
              "ticks": ""
             }
            },
            "type": "scattermapbox"
           }
          ],
          "scatterpolar": [
           {
            "marker": {
             "colorbar": {
              "outlinewidth": 0,
              "ticks": ""
             }
            },
            "type": "scatterpolar"
           }
          ],
          "scatterpolargl": [
           {
            "marker": {
             "colorbar": {
              "outlinewidth": 0,
              "ticks": ""
             }
            },
            "type": "scatterpolargl"
           }
          ],
          "scatterternary": [
           {
            "marker": {
             "colorbar": {
              "outlinewidth": 0,
              "ticks": ""
             }
            },
            "type": "scatterternary"
           }
          ],
          "surface": [
           {
            "colorbar": {
             "outlinewidth": 0,
             "ticks": ""
            },
            "colorscale": [
             [
              0,
              "#0d0887"
             ],
             [
              0.1111111111111111,
              "#46039f"
             ],
             [
              0.2222222222222222,
              "#7201a8"
             ],
             [
              0.3333333333333333,
              "#9c179e"
             ],
             [
              0.4444444444444444,
              "#bd3786"
             ],
             [
              0.5555555555555556,
              "#d8576b"
             ],
             [
              0.6666666666666666,
              "#ed7953"
             ],
             [
              0.7777777777777778,
              "#fb9f3a"
             ],
             [
              0.8888888888888888,
              "#fdca26"
             ],
             [
              1,
              "#f0f921"
             ]
            ],
            "type": "surface"
           }
          ],
          "table": [
           {
            "cells": {
             "fill": {
              "color": "#506784"
             },
             "line": {
              "color": "rgb(17,17,17)"
             }
            },
            "header": {
             "fill": {
              "color": "#2a3f5f"
             },
             "line": {
              "color": "rgb(17,17,17)"
             }
            },
            "type": "table"
           }
          ]
         },
         "layout": {
          "annotationdefaults": {
           "arrowcolor": "#f2f5fa",
           "arrowhead": 0,
           "arrowwidth": 1
          },
          "autotypenumbers": "strict",
          "coloraxis": {
           "colorbar": {
            "outlinewidth": 0,
            "ticks": ""
           }
          },
          "colorscale": {
           "diverging": [
            [
             0,
             "#8e0152"
            ],
            [
             0.1,
             "#c51b7d"
            ],
            [
             0.2,
             "#de77ae"
            ],
            [
             0.3,
             "#f1b6da"
            ],
            [
             0.4,
             "#fde0ef"
            ],
            [
             0.5,
             "#f7f7f7"
            ],
            [
             0.6,
             "#e6f5d0"
            ],
            [
             0.7,
             "#b8e186"
            ],
            [
             0.8,
             "#7fbc41"
            ],
            [
             0.9,
             "#4d9221"
            ],
            [
             1,
             "#276419"
            ]
           ],
           "sequential": [
            [
             0,
             "#0d0887"
            ],
            [
             0.1111111111111111,
             "#46039f"
            ],
            [
             0.2222222222222222,
             "#7201a8"
            ],
            [
             0.3333333333333333,
             "#9c179e"
            ],
            [
             0.4444444444444444,
             "#bd3786"
            ],
            [
             0.5555555555555556,
             "#d8576b"
            ],
            [
             0.6666666666666666,
             "#ed7953"
            ],
            [
             0.7777777777777778,
             "#fb9f3a"
            ],
            [
             0.8888888888888888,
             "#fdca26"
            ],
            [
             1,
             "#f0f921"
            ]
           ],
           "sequentialminus": [
            [
             0,
             "#0d0887"
            ],
            [
             0.1111111111111111,
             "#46039f"
            ],
            [
             0.2222222222222222,
             "#7201a8"
            ],
            [
             0.3333333333333333,
             "#9c179e"
            ],
            [
             0.4444444444444444,
             "#bd3786"
            ],
            [
             0.5555555555555556,
             "#d8576b"
            ],
            [
             0.6666666666666666,
             "#ed7953"
            ],
            [
             0.7777777777777778,
             "#fb9f3a"
            ],
            [
             0.8888888888888888,
             "#fdca26"
            ],
            [
             1,
             "#f0f921"
            ]
           ]
          },
          "colorway": [
           "#636efa",
           "#EF553B",
           "#00cc96",
           "#ab63fa",
           "#FFA15A",
           "#19d3f3",
           "#FF6692",
           "#B6E880",
           "#FF97FF",
           "#FECB52"
          ],
          "font": {
           "color": "#f2f5fa"
          },
          "geo": {
           "bgcolor": "rgb(17,17,17)",
           "lakecolor": "rgb(17,17,17)",
           "landcolor": "rgb(17,17,17)",
           "showlakes": true,
           "showland": true,
           "subunitcolor": "#506784"
          },
          "hoverlabel": {
           "align": "left"
          },
          "hovermode": "closest",
          "mapbox": {
           "style": "dark"
          },
          "paper_bgcolor": "rgb(17,17,17)",
          "plot_bgcolor": "rgb(17,17,17)",
          "polar": {
           "angularaxis": {
            "gridcolor": "#506784",
            "linecolor": "#506784",
            "ticks": ""
           },
           "bgcolor": "rgb(17,17,17)",
           "radialaxis": {
            "gridcolor": "#506784",
            "linecolor": "#506784",
            "ticks": ""
           }
          },
          "scene": {
           "xaxis": {
            "backgroundcolor": "rgb(17,17,17)",
            "gridcolor": "#506784",
            "gridwidth": 2,
            "linecolor": "#506784",
            "showbackground": true,
            "ticks": "",
            "zerolinecolor": "#C8D4E3"
           },
           "yaxis": {
            "backgroundcolor": "rgb(17,17,17)",
            "gridcolor": "#506784",
            "gridwidth": 2,
            "linecolor": "#506784",
            "showbackground": true,
            "ticks": "",
            "zerolinecolor": "#C8D4E3"
           },
           "zaxis": {
            "backgroundcolor": "rgb(17,17,17)",
            "gridcolor": "#506784",
            "gridwidth": 2,
            "linecolor": "#506784",
            "showbackground": true,
            "ticks": "",
            "zerolinecolor": "#C8D4E3"
           }
          },
          "shapedefaults": {
           "line": {
            "color": "#f2f5fa"
           }
          },
          "sliderdefaults": {
           "bgcolor": "#C8D4E3",
           "bordercolor": "rgb(17,17,17)",
           "borderwidth": 1,
           "tickwidth": 0
          },
          "ternary": {
           "aaxis": {
            "gridcolor": "#506784",
            "linecolor": "#506784",
            "ticks": ""
           },
           "baxis": {
            "gridcolor": "#506784",
            "linecolor": "#506784",
            "ticks": ""
           },
           "bgcolor": "rgb(17,17,17)",
           "caxis": {
            "gridcolor": "#506784",
            "linecolor": "#506784",
            "ticks": ""
           }
          },
          "title": {
           "x": 0.05
          },
          "updatemenudefaults": {
           "bgcolor": "#506784",
           "borderwidth": 0
          },
          "xaxis": {
           "automargin": true,
           "gridcolor": "#283442",
           "linecolor": "#506784",
           "ticks": "",
           "title": {
            "standoff": 15
           },
           "zerolinecolor": "#283442",
           "zerolinewidth": 2
          },
          "yaxis": {
           "automargin": true,
           "gridcolor": "#283442",
           "linecolor": "#506784",
           "ticks": "",
           "title": {
            "standoff": 15
           },
           "zerolinecolor": "#283442",
           "zerolinewidth": 2
          }
         }
        },
        "xaxis": {
         "anchor": "y",
         "domain": [
          0,
          1
         ],
         "title": {
          "text": "Age"
         }
        },
        "yaxis": {
         "anchor": "x",
         "domain": [
          0,
          1
         ],
         "title": {
          "text": "value"
         }
        }
       }
      },
      "text/html": [
       "<div>                            <div id=\"9b38db5b-4a00-4182-bf83-d8ee224e582f\" class=\"plotly-graph-div\" style=\"height:525px; width:100%;\"></div>            <script type=\"text/javascript\">                require([\"plotly\"], function(Plotly) {                    window.PLOTLYENV=window.PLOTLYENV || {};                                    if (document.getElementById(\"9b38db5b-4a00-4182-bf83-d8ee224e582f\")) {                    Plotly.newPlot(                        \"9b38db5b-4a00-4182-bf83-d8ee224e582f\",                        [{\"alignmentgroup\": \"True\", \"hovertemplate\": \"variable=cases with delay % - Local with Epi-link<br>Age=%{x}<br>value=%{y}<extra></extra>\", \"legendgroup\": \"cases with delay % - Local with Epi-link\", \"marker\": {\"color\": \"#636efa\"}, \"name\": \"cases with delay % - Local with Epi-link\", \"offsetgroup\": \"cases with delay % - Local with Epi-link\", \"orientation\": \"v\", \"showlegend\": true, \"textposition\": \"auto\", \"type\": \"bar\", \"x\": [1, 2, 3, 4, 5, 6, 7], \"xaxis\": \"x\", \"y\": [62.61510128913444, 77.68670309653916, 71.39451728247914, 74.63026166097838, 75.86547972304649, 69.20863309352518, 70.29972752043598], \"yaxis\": \"y\"}, {\"alignmentgroup\": \"True\", \"hovertemplate\": \"variable=cases with delay % - Local without Epi-link<br>Age=%{x}<br>value=%{y}<extra></extra>\", \"legendgroup\": \"cases with delay % - Local without Epi-link\", \"marker\": {\"color\": \"#EF553B\"}, \"name\": \"cases with delay % - Local without Epi-link\", \"offsetgroup\": \"cases with delay % - Local without Epi-link\", \"orientation\": \"v\", \"showlegend\": true, \"textposition\": \"auto\", \"type\": \"bar\", \"x\": [1, 2, 3, 4, 5, 6, 7], \"xaxis\": \"x\", \"y\": [90.54054054054053, 90.0, 86.95652173913044, 88.57644991212655, 89.6838602329451, 84.375, 89.76744186046511], \"yaxis\": \"y\"}, {\"alignmentgroup\": \"True\", \"hovertemplate\": \"variable=cases with delay % - Local<br>Age=%{x}<br>value=%{y}<extra></extra>\", \"legendgroup\": \"cases with delay % - Local\", \"marker\": {\"color\": \"#00cc96\"}, \"name\": \"cases with delay % - Local\", \"offsetgroup\": \"cases with delay % - Local\", \"orientation\": \"v\", \"showlegend\": true, \"textposition\": \"auto\", \"type\": \"bar\", \"x\": [1, 2, 3, 4, 5, 6, 7], \"xaxis\": \"x\", \"y\": [65.96434359805511, 81.79611650485437, 76.905311778291, 80.11049723756905, 81.01736972704715, 75.15310586176727, 77.4914089347079], \"yaxis\": \"y\"}],                        {\"barmode\": \"group\", \"legend\": {\"title\": {\"text\": \"variable\"}, \"tracegroupgap\": 0}, \"margin\": {\"t\": 60}, \"template\": {\"data\": {\"bar\": [{\"error_x\": {\"color\": \"#f2f5fa\"}, \"error_y\": {\"color\": \"#f2f5fa\"}, \"marker\": {\"line\": {\"color\": \"rgb(17,17,17)\", \"width\": 0.5}}, \"type\": \"bar\"}], \"barpolar\": [{\"marker\": {\"line\": {\"color\": \"rgb(17,17,17)\", \"width\": 0.5}}, \"type\": \"barpolar\"}], \"carpet\": [{\"aaxis\": {\"endlinecolor\": \"#A2B1C6\", \"gridcolor\": \"#506784\", \"linecolor\": \"#506784\", \"minorgridcolor\": \"#506784\", \"startlinecolor\": \"#A2B1C6\"}, \"baxis\": {\"endlinecolor\": \"#A2B1C6\", \"gridcolor\": \"#506784\", \"linecolor\": \"#506784\", \"minorgridcolor\": \"#506784\", \"startlinecolor\": \"#A2B1C6\"}, \"type\": \"carpet\"}], \"choropleth\": [{\"colorbar\": {\"outlinewidth\": 0, \"ticks\": \"\"}, \"type\": \"choropleth\"}], \"contour\": [{\"colorbar\": {\"outlinewidth\": 0, \"ticks\": \"\"}, \"colorscale\": [[0.0, \"#0d0887\"], [0.1111111111111111, \"#46039f\"], [0.2222222222222222, \"#7201a8\"], [0.3333333333333333, \"#9c179e\"], [0.4444444444444444, \"#bd3786\"], [0.5555555555555556, \"#d8576b\"], [0.6666666666666666, \"#ed7953\"], [0.7777777777777778, \"#fb9f3a\"], [0.8888888888888888, \"#fdca26\"], [1.0, \"#f0f921\"]], \"type\": \"contour\"}], \"contourcarpet\": [{\"colorbar\": {\"outlinewidth\": 0, \"ticks\": \"\"}, \"type\": \"contourcarpet\"}], \"heatmap\": [{\"colorbar\": {\"outlinewidth\": 0, \"ticks\": \"\"}, \"colorscale\": [[0.0, \"#0d0887\"], [0.1111111111111111, \"#46039f\"], [0.2222222222222222, \"#7201a8\"], [0.3333333333333333, \"#9c179e\"], [0.4444444444444444, \"#bd3786\"], [0.5555555555555556, \"#d8576b\"], [0.6666666666666666, \"#ed7953\"], [0.7777777777777778, \"#fb9f3a\"], [0.8888888888888888, \"#fdca26\"], [1.0, \"#f0f921\"]], \"type\": \"heatmap\"}], \"heatmapgl\": [{\"colorbar\": {\"outlinewidth\": 0, \"ticks\": \"\"}, \"colorscale\": [[0.0, \"#0d0887\"], [0.1111111111111111, \"#46039f\"], [0.2222222222222222, \"#7201a8\"], [0.3333333333333333, \"#9c179e\"], [0.4444444444444444, \"#bd3786\"], [0.5555555555555556, \"#d8576b\"], [0.6666666666666666, \"#ed7953\"], [0.7777777777777778, \"#fb9f3a\"], [0.8888888888888888, \"#fdca26\"], [1.0, \"#f0f921\"]], \"type\": \"heatmapgl\"}], \"histogram\": [{\"marker\": {\"colorbar\": {\"outlinewidth\": 0, \"ticks\": \"\"}}, \"type\": \"histogram\"}], \"histogram2d\": [{\"colorbar\": {\"outlinewidth\": 0, \"ticks\": \"\"}, \"colorscale\": [[0.0, \"#0d0887\"], [0.1111111111111111, \"#46039f\"], [0.2222222222222222, \"#7201a8\"], [0.3333333333333333, \"#9c179e\"], [0.4444444444444444, \"#bd3786\"], [0.5555555555555556, \"#d8576b\"], [0.6666666666666666, \"#ed7953\"], [0.7777777777777778, \"#fb9f3a\"], [0.8888888888888888, \"#fdca26\"], [1.0, \"#f0f921\"]], \"type\": \"histogram2d\"}], \"histogram2dcontour\": [{\"colorbar\": {\"outlinewidth\": 0, \"ticks\": \"\"}, \"colorscale\": [[0.0, \"#0d0887\"], [0.1111111111111111, \"#46039f\"], [0.2222222222222222, \"#7201a8\"], [0.3333333333333333, \"#9c179e\"], [0.4444444444444444, \"#bd3786\"], [0.5555555555555556, \"#d8576b\"], [0.6666666666666666, \"#ed7953\"], [0.7777777777777778, \"#fb9f3a\"], [0.8888888888888888, \"#fdca26\"], [1.0, \"#f0f921\"]], \"type\": \"histogram2dcontour\"}], \"mesh3d\": [{\"colorbar\": {\"outlinewidth\": 0, \"ticks\": \"\"}, \"type\": \"mesh3d\"}], \"parcoords\": [{\"line\": {\"colorbar\": {\"outlinewidth\": 0, \"ticks\": \"\"}}, \"type\": \"parcoords\"}], \"pie\": [{\"automargin\": true, \"type\": \"pie\"}], \"scatter\": [{\"marker\": {\"line\": {\"color\": \"#283442\"}}, \"type\": \"scatter\"}], \"scatter3d\": [{\"line\": {\"colorbar\": {\"outlinewidth\": 0, \"ticks\": \"\"}}, \"marker\": {\"colorbar\": {\"outlinewidth\": 0, \"ticks\": \"\"}}, \"type\": \"scatter3d\"}], \"scattercarpet\": [{\"marker\": {\"colorbar\": {\"outlinewidth\": 0, \"ticks\": \"\"}}, \"type\": \"scattercarpet\"}], \"scattergeo\": [{\"marker\": {\"colorbar\": {\"outlinewidth\": 0, \"ticks\": \"\"}}, \"type\": \"scattergeo\"}], \"scattergl\": [{\"marker\": {\"line\": {\"color\": \"#283442\"}}, \"type\": \"scattergl\"}], \"scattermapbox\": [{\"marker\": {\"colorbar\": {\"outlinewidth\": 0, \"ticks\": \"\"}}, \"type\": \"scattermapbox\"}], \"scatterpolar\": [{\"marker\": {\"colorbar\": {\"outlinewidth\": 0, \"ticks\": \"\"}}, \"type\": \"scatterpolar\"}], \"scatterpolargl\": [{\"marker\": {\"colorbar\": {\"outlinewidth\": 0, \"ticks\": \"\"}}, \"type\": \"scatterpolargl\"}], \"scatterternary\": [{\"marker\": {\"colorbar\": {\"outlinewidth\": 0, \"ticks\": \"\"}}, \"type\": \"scatterternary\"}], \"surface\": [{\"colorbar\": {\"outlinewidth\": 0, \"ticks\": \"\"}, \"colorscale\": [[0.0, \"#0d0887\"], [0.1111111111111111, \"#46039f\"], [0.2222222222222222, \"#7201a8\"], [0.3333333333333333, \"#9c179e\"], [0.4444444444444444, \"#bd3786\"], [0.5555555555555556, \"#d8576b\"], [0.6666666666666666, \"#ed7953\"], [0.7777777777777778, \"#fb9f3a\"], [0.8888888888888888, \"#fdca26\"], [1.0, \"#f0f921\"]], \"type\": \"surface\"}], \"table\": [{\"cells\": {\"fill\": {\"color\": \"#506784\"}, \"line\": {\"color\": \"rgb(17,17,17)\"}}, \"header\": {\"fill\": {\"color\": \"#2a3f5f\"}, \"line\": {\"color\": \"rgb(17,17,17)\"}}, \"type\": \"table\"}]}, \"layout\": {\"annotationdefaults\": {\"arrowcolor\": \"#f2f5fa\", \"arrowhead\": 0, \"arrowwidth\": 1}, \"autotypenumbers\": \"strict\", \"coloraxis\": {\"colorbar\": {\"outlinewidth\": 0, \"ticks\": \"\"}}, \"colorscale\": {\"diverging\": [[0, \"#8e0152\"], [0.1, \"#c51b7d\"], [0.2, \"#de77ae\"], [0.3, \"#f1b6da\"], [0.4, \"#fde0ef\"], [0.5, \"#f7f7f7\"], [0.6, \"#e6f5d0\"], [0.7, \"#b8e186\"], [0.8, \"#7fbc41\"], [0.9, \"#4d9221\"], [1, \"#276419\"]], \"sequential\": [[0.0, \"#0d0887\"], [0.1111111111111111, \"#46039f\"], [0.2222222222222222, \"#7201a8\"], [0.3333333333333333, \"#9c179e\"], [0.4444444444444444, \"#bd3786\"], [0.5555555555555556, \"#d8576b\"], [0.6666666666666666, \"#ed7953\"], [0.7777777777777778, \"#fb9f3a\"], [0.8888888888888888, \"#fdca26\"], [1.0, \"#f0f921\"]], \"sequentialminus\": [[0.0, \"#0d0887\"], [0.1111111111111111, \"#46039f\"], [0.2222222222222222, \"#7201a8\"], [0.3333333333333333, \"#9c179e\"], [0.4444444444444444, \"#bd3786\"], [0.5555555555555556, \"#d8576b\"], [0.6666666666666666, \"#ed7953\"], [0.7777777777777778, \"#fb9f3a\"], [0.8888888888888888, \"#fdca26\"], [1.0, \"#f0f921\"]]}, \"colorway\": [\"#636efa\", \"#EF553B\", \"#00cc96\", \"#ab63fa\", \"#FFA15A\", \"#19d3f3\", \"#FF6692\", \"#B6E880\", \"#FF97FF\", \"#FECB52\"], \"font\": {\"color\": \"#f2f5fa\"}, \"geo\": {\"bgcolor\": \"rgb(17,17,17)\", \"lakecolor\": \"rgb(17,17,17)\", \"landcolor\": \"rgb(17,17,17)\", \"showlakes\": true, \"showland\": true, \"subunitcolor\": \"#506784\"}, \"hoverlabel\": {\"align\": \"left\"}, \"hovermode\": \"closest\", \"mapbox\": {\"style\": \"dark\"}, \"paper_bgcolor\": \"rgb(17,17,17)\", \"plot_bgcolor\": \"rgb(17,17,17)\", \"polar\": {\"angularaxis\": {\"gridcolor\": \"#506784\", \"linecolor\": \"#506784\", \"ticks\": \"\"}, \"bgcolor\": \"rgb(17,17,17)\", \"radialaxis\": {\"gridcolor\": \"#506784\", \"linecolor\": \"#506784\", \"ticks\": \"\"}}, \"scene\": {\"xaxis\": {\"backgroundcolor\": \"rgb(17,17,17)\", \"gridcolor\": \"#506784\", \"gridwidth\": 2, \"linecolor\": \"#506784\", \"showbackground\": true, \"ticks\": \"\", \"zerolinecolor\": \"#C8D4E3\"}, \"yaxis\": {\"backgroundcolor\": \"rgb(17,17,17)\", \"gridcolor\": \"#506784\", \"gridwidth\": 2, \"linecolor\": \"#506784\", \"showbackground\": true, \"ticks\": \"\", \"zerolinecolor\": \"#C8D4E3\"}, \"zaxis\": {\"backgroundcolor\": \"rgb(17,17,17)\", \"gridcolor\": \"#506784\", \"gridwidth\": 2, \"linecolor\": \"#506784\", \"showbackground\": true, \"ticks\": \"\", \"zerolinecolor\": \"#C8D4E3\"}}, \"shapedefaults\": {\"line\": {\"color\": \"#f2f5fa\"}}, \"sliderdefaults\": {\"bgcolor\": \"#C8D4E3\", \"bordercolor\": \"rgb(17,17,17)\", \"borderwidth\": 1, \"tickwidth\": 0}, \"ternary\": {\"aaxis\": {\"gridcolor\": \"#506784\", \"linecolor\": \"#506784\", \"ticks\": \"\"}, \"baxis\": {\"gridcolor\": \"#506784\", \"linecolor\": \"#506784\", \"ticks\": \"\"}, \"bgcolor\": \"rgb(17,17,17)\", \"caxis\": {\"gridcolor\": \"#506784\", \"linecolor\": \"#506784\", \"ticks\": \"\"}}, \"title\": {\"x\": 0.05}, \"updatemenudefaults\": {\"bgcolor\": \"#506784\", \"borderwidth\": 0}, \"xaxis\": {\"automargin\": true, \"gridcolor\": \"#283442\", \"linecolor\": \"#506784\", \"ticks\": \"\", \"title\": {\"standoff\": 15}, \"zerolinecolor\": \"#283442\", \"zerolinewidth\": 2}, \"yaxis\": {\"automargin\": true, \"gridcolor\": \"#283442\", \"linecolor\": \"#506784\", \"ticks\": \"\", \"title\": {\"standoff\": 15}, \"zerolinecolor\": \"#283442\", \"zerolinewidth\": 2}}}, \"xaxis\": {\"anchor\": \"y\", \"domain\": [0.0, 1.0], \"title\": {\"text\": \"Age\"}}, \"yaxis\": {\"anchor\": \"x\", \"domain\": [0.0, 1.0], \"title\": {\"text\": \"value\"}}},                        {\"responsive\": true}                    ).then(function(){\n",
       "                            \n",
       "var gd = document.getElementById('9b38db5b-4a00-4182-bf83-d8ee224e582f');\n",
       "var x = new MutationObserver(function (mutations, observer) {{\n",
       "        var display = window.getComputedStyle(gd).display;\n",
       "        if (!display || display === 'none') {{\n",
       "            console.log([gd, 'removed!']);\n",
       "            Plotly.purge(gd);\n",
       "            observer.disconnect();\n",
       "        }}\n",
       "}});\n",
       "\n",
       "// Listen for the removal of the full notebook cells\n",
       "var notebookContainer = gd.closest('#notebook-container');\n",
       "if (notebookContainer) {{\n",
       "    x.observe(notebookContainer, {childList: true});\n",
       "}}\n",
       "\n",
       "// Listen for the clearing of the current output cell\n",
       "var outputEl = gd.closest('.output');\n",
       "if (outputEl) {{\n",
       "    x.observe(outputEl, {childList: true});\n",
       "}}\n",
       "\n",
       "                        })                };                });            </script>        </div>"
      ]
     },
     "metadata": {},
     "output_type": "display_data"
    }
   ],
   "source": [
    "\n",
    "fig = px.bar(df_age, x = df_age.index, y = [\"cases with delay % - Local with Epi-link\",\"cases with delay % - Local without Epi-link\",\"cases with delay % - Local\"],template=\"plotly_dark\",barmode='group')\n",
    "fig.show()"
   ]
  },
  {
   "cell_type": "code",
   "execution_count": 18,
   "id": "elect-amendment",
   "metadata": {},
   "outputs": [
    {
     "data": {
      "text/plain": [
       "<function str.index>"
      ]
     },
     "execution_count": 18,
     "metadata": {},
     "output_type": "execute_result"
    }
   ],
   "source": [
    "dfada = pd.DataFrame.to_json(df_age)\n",
    "dfada.index"
   ]
  }
 ],
 "metadata": {
  "kernelspec": {
   "display_name": "Python 3",
   "language": "python",
   "name": "python3"
  },
  "language_info": {
   "codemirror_mode": {
    "name": "ipython",
    "version": 3
   },
   "file_extension": ".py",
   "mimetype": "text/x-python",
   "name": "python",
   "nbconvert_exporter": "python",
   "pygments_lexer": "ipython3",
   "version": "3.7.9"
  }
 },
 "nbformat": 4,
 "nbformat_minor": 5
}
